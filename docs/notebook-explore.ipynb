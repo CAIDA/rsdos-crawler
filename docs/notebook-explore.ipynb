{
 "cells": [
  {
   "cell_type": "markdown",
   "metadata": {},
   "source": [
    "# Real-Time Monitoring of DoS Attacks: Explore Data of RSDoS Crawler"
   ]
  },
  {
   "cell_type": "markdown",
   "metadata": {},
   "source": [
    "This notebook runs a very first analysis as part of the real-time monitoring of DoS attacks. The aim of this analysis is to get some first insights into the data format of the RSDoS crawler.\n",
    "\n",
    "*Stefan Scholz* \n",
    "*2020-07-22*"
   ]
  },
  {
   "cell_type": "code",
   "execution_count": 1,
   "metadata": {},
   "outputs": [],
   "source": [
    "import os\n",
    "import json\n",
    "import gzip\n",
    "import pprint\n",
    "import itertools\n",
    "import pandas as pd\n",
    "from datetime import datetime"
   ]
  },
  {
   "cell_type": "markdown",
   "metadata": {},
   "source": [
    "## Data Format"
   ]
  },
  {
   "cell_type": "code",
   "execution_count": 2,
   "metadata": {},
   "outputs": [
    {
     "name": "stdout",
     "output_type": "stream",
     "text": [
      "{'name': 'data-telescope-crawler-dos-20200720131800',\n",
      " 'targets': [{'hosts': {...},\n",
      "              'ip': '192.172.226.78',\n",
      "              'latest_time': '2020-07-20T13:14:13.264622Z',\n",
      "              'start_time': '2020-07-20T13:12:13.250350Z',\n",
      "              'target_lines': [...]},\n",
      "             {'hosts': {...},\n",
      "              'ip': '194.59.37.35',\n",
      "              'latest_time': '2020-07-20T13:14:13.264622Z',\n",
      "              'start_time': '2020-07-20T13:12:33.254245Z',\n",
      "              'target_lines': [...]},\n",
      "             {'hosts': {...},\n",
      "              'ip': '208.80.154.232',\n",
      "              'latest_time': '2020-07-20T13:14:33.263870Z',\n",
      "              'start_time': '2020-07-20T13:12:33.254245Z',\n",
      "              'target_lines': [...]},\n",
      "             {'hosts': {...},\n",
      "              'ip': '172.217.23.163',\n",
      "              'latest_time': '2020-07-20T13:14:13.264622Z',\n",
      "              'start_time': '2020-07-20T13:13:33.258748Z',\n",
      "              'target_lines': [...]},\n",
      "             {'hosts': {...},\n",
      "              'ip': '54.187.154.195',\n",
      "              'latest_time': '2020-07-20T13:14:13.264622Z',\n",
      "              'start_time': '2020-07-20T13:13:53.264622Z',\n",
      "              'target_lines': [...]}],\n",
      " 'time': '2020-07-20T13:18:00.003169Z'}\n"
     ]
    }
   ],
   "source": [
    "# load data\n",
    "with gzip.open(\"data-telescope-crawler-dos-202007201318.json.gz\", \"rt\", encoding=\"utf-8\") as file:\n",
    "    dump = json.load(file)\n",
    "    \n",
    "# print data\n",
    "pp = pprint.PrettyPrinter(depth=3)\n",
    "pp.pprint(dump)"
   ]
  },
  {
   "cell_type": "code",
   "execution_count": null,
   "metadata": {},
   "outputs": [],
   "source": []
  },
  {
   "cell_type": "code",
   "execution_count": null,
   "metadata": {},
   "outputs": [],
   "source": []
  },
  {
   "cell_type": "markdown",
   "metadata": {},
   "source": [
    "## Data Preparation"
   ]
  },
  {
   "cell_type": "code",
   "execution_count": 3,
   "metadata": {},
   "outputs": [],
   "source": [
    "# get dumps\n",
    "dumps_dir = \".\"\n",
    "dumps = [os.path.join(dumps_dir, file) for file in os.listdir(dumps_dir) if file.endswith(\".json.gz\")]"
   ]
  },
  {
   "cell_type": "code",
   "execution_count": 4,
   "metadata": {},
   "outputs": [
    {
     "data": {
      "text/html": [
       "<div>\n",
       "<style scoped>\n",
       "    .dataframe tbody tr th:only-of-type {\n",
       "        vertical-align: middle;\n",
       "    }\n",
       "\n",
       "    .dataframe tbody tr th {\n",
       "        vertical-align: top;\n",
       "    }\n",
       "\n",
       "    .dataframe thead th {\n",
       "        text-align: right;\n",
       "    }\n",
       "</style>\n",
       "<table border=\"1\" class=\"dataframe\">\n",
       "  <thead>\n",
       "    <tr style=\"text-align: right;\">\n",
       "      <th></th>\n",
       "      <th>ip</th>\n",
       "      <th>start_time</th>\n",
       "      <th>latest_time</th>\n",
       "      <th>target_lines</th>\n",
       "      <th>hosts</th>\n",
       "    </tr>\n",
       "  </thead>\n",
       "  <tbody>\n",
       "    <tr>\n",
       "      <th>0</th>\n",
       "      <td>192.172.226.78</td>\n",
       "      <td>2020-07-20 13:12:13.250350+00:00</td>\n",
       "      <td>2020-07-20 13:14:13.264622+00:00</td>\n",
       "      <td>[{'target_ip': '192.172.226.78', 'nr_attacker_...</td>\n",
       "      <td>{'192.172.226.78': [{'record': 'WARC/1.1\r\n",
       "WARC...</td>\n",
       "    </tr>\n",
       "    <tr>\n",
       "      <th>1</th>\n",
       "      <td>194.59.37.35</td>\n",
       "      <td>2020-07-20 13:12:33.254245+00:00</td>\n",
       "      <td>2020-07-20 13:14:13.264622+00:00</td>\n",
       "      <td>[{'target_ip': '194.59.37.35', 'nr_attacker_ip...</td>\n",
       "      <td>{'194.59.37.35': [{'record': 'WARC/1.1\r\n",
       "WARC-T...</td>\n",
       "    </tr>\n",
       "    <tr>\n",
       "      <th>2</th>\n",
       "      <td>208.80.154.232</td>\n",
       "      <td>2020-07-20 13:12:33.254245+00:00</td>\n",
       "      <td>2020-07-20 13:14:33.263870+00:00</td>\n",
       "      <td>[{'target_ip': '208.80.154.232', 'nr_attacker_...</td>\n",
       "      <td>{'208.80.154.232': [{'record': 'WARC/1.1\r\n",
       "WARC...</td>\n",
       "    </tr>\n",
       "    <tr>\n",
       "      <th>3</th>\n",
       "      <td>172.217.23.163</td>\n",
       "      <td>2020-07-20 13:13:33.258748+00:00</td>\n",
       "      <td>2020-07-20 13:14:13.264622+00:00</td>\n",
       "      <td>[{'target_ip': '172.217.23.163', 'nr_attacker_...</td>\n",
       "      <td>{'172.217.23.163': [{'record': 'WARC/1.1\r\n",
       "WARC...</td>\n",
       "    </tr>\n",
       "    <tr>\n",
       "      <th>4</th>\n",
       "      <td>54.187.154.195</td>\n",
       "      <td>2020-07-20 13:13:53.264622+00:00</td>\n",
       "      <td>2020-07-20 13:14:13.264622+00:00</td>\n",
       "      <td>[{'target_ip': '54.187.154.195', 'nr_attacker_...</td>\n",
       "      <td>{'54.187.154.195': [{'record': 'WARC/1.1\r\n",
       "WARC...</td>\n",
       "    </tr>\n",
       "  </tbody>\n",
       "</table>\n",
       "</div>"
      ],
      "text/plain": [
       "               ip                       start_time  \\\n",
       "0  192.172.226.78 2020-07-20 13:12:13.250350+00:00   \n",
       "1    194.59.37.35 2020-07-20 13:12:33.254245+00:00   \n",
       "2  208.80.154.232 2020-07-20 13:12:33.254245+00:00   \n",
       "3  172.217.23.163 2020-07-20 13:13:33.258748+00:00   \n",
       "4  54.187.154.195 2020-07-20 13:13:53.264622+00:00   \n",
       "\n",
       "                       latest_time  \\\n",
       "0 2020-07-20 13:14:13.264622+00:00   \n",
       "1 2020-07-20 13:14:13.264622+00:00   \n",
       "2 2020-07-20 13:14:33.263870+00:00   \n",
       "3 2020-07-20 13:14:13.264622+00:00   \n",
       "4 2020-07-20 13:14:13.264622+00:00   \n",
       "\n",
       "                                        target_lines  \\\n",
       "0  [{'target_ip': '192.172.226.78', 'nr_attacker_...   \n",
       "1  [{'target_ip': '194.59.37.35', 'nr_attacker_ip...   \n",
       "2  [{'target_ip': '208.80.154.232', 'nr_attacker_...   \n",
       "3  [{'target_ip': '172.217.23.163', 'nr_attacker_...   \n",
       "4  [{'target_ip': '54.187.154.195', 'nr_attacker_...   \n",
       "\n",
       "                                               hosts  \n",
       "0  {'192.172.226.78': [{'record': 'WARC/1.1\n",
       "WARC...  \n",
       "1  {'194.59.37.35': [{'record': 'WARC/1.1\n",
       "WARC-T...  \n",
       "2  {'208.80.154.232': [{'record': 'WARC/1.1\n",
       "WARC...  \n",
       "3  {'172.217.23.163': [{'record': 'WARC/1.1\n",
       "WARC...  \n",
       "4  {'54.187.154.195': [{'record': 'WARC/1.1\n",
       "WARC...  "
      ]
     },
     "execution_count": 4,
     "metadata": {},
     "output_type": "execute_result"
    }
   ],
   "source": [
    "def date_parser(value):\n",
    "    \"\"\"\n",
    "    Parse dates in dump\n",
    "    \"\"\"\n",
    "    \n",
    "    if isinstance(value, dict):\n",
    "        for k, v in value.items():\n",
    "            value[k] = date_parser(v)\n",
    "    elif isinstance(value, list):\n",
    "        for index, row in enumerate(value):\n",
    "            value[index] = date_parser(row)\n",
    "    elif isinstance(value, str) and value:\n",
    "        try:\n",
    "            value = datetime.strptime(value, \"%Y-%m-%dT%H:%M:%S.%f%z\")\n",
    "        except (ValueError, AttributeError):\n",
    "            pass\n",
    "    return value\n",
    "\n",
    "# get attacks\n",
    "attacks = [json.load(gzip.open(dump, \"rt\", encoding=\"utf-8\"), object_hook=date_parser)[\"targets\"] for dump in dumps]\n",
    "attacks = list(itertools.chain.from_iterable(attacks))\n",
    "attacks = pd.DataFrame(attacks)\n",
    "\n",
    "# print attacks\n",
    "attacks.head(5)"
   ]
  },
  {
   "cell_type": "code",
   "execution_count": null,
   "metadata": {},
   "outputs": [],
   "source": []
  },
  {
   "cell_type": "code",
   "execution_count": null,
   "metadata": {},
   "outputs": [],
   "source": []
  }
 ],
 "metadata": {
  "kernelspec": {
   "display_name": "Python 3",
   "language": "python",
   "name": "python3"
  },
  "language_info": {
   "codemirror_mode": {
    "name": "ipython",
    "version": 3
   },
   "file_extension": ".py",
   "mimetype": "text/x-python",
   "name": "python",
   "nbconvert_exporter": "python",
   "pygments_lexer": "ipython3",
   "version": "3.7.5"
  }
 },
 "nbformat": 4,
 "nbformat_minor": 4
}
