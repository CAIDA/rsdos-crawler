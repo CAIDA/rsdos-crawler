{
 "cells": [
  {
   "cell_type": "markdown",
   "metadata": {},
   "source": [
    "# Real-Time Monitoring of DoS Attacks: Analyse Data of RSDoS Crawler"
   ]
  },
  {
   "cell_type": "markdown",
   "metadata": {},
   "source": [
    "This notebook runs a very first analysis as part of the real-time monitoring of DoS attacks. The aim of this analysis is to get some first insights into the data of the RSDoS crawler.\n",
    "\n",
    "*Stefan Scholz* \n",
    "*2020-07-30*"
   ]
  },
  {
   "cell_type": "code",
   "execution_count": 1,
   "metadata": {},
   "outputs": [],
   "source": [
    "import os\n",
    "import json\n",
    "import gzip\n",
    "import pprint\n",
    "import itertools\n",
    "import pandas as pd\n",
    "from datetime import datetime"
   ]
  },
  {
   "cell_type": "markdown",
   "metadata": {},
   "source": [
    "## Data Preparation"
   ]
  },
  {
   "cell_type": "code",
   "execution_count": 2,
   "metadata": {},
   "outputs": [
    {
     "name": "stdout",
     "output_type": "stream",
     "text": [
      "['../data/data-telescope-crawler-dos-202007301100.json.gz', '../data/data-telescope-crawler-dos-202007301800.json.gz', '../data/data-telescope-crawler-dos-202007301300.json.gz', '../data/data-telescope-crawler-dos-202007301400.json.gz', '../data/data-telescope-crawler-dos-202007301200.json.gz', '../data/data-telescope-crawler-dos-202007301600.json.gz', '../data/data-telescope-crawler-dos-202007301700.json.gz', '../data/data-telescope-crawler-dos-202007301900.json.gz', '../data/data-telescope-crawler-dos-202007301500.json.gz']\n"
     ]
    }
   ],
   "source": [
    "# get dumps\n",
    "dumps_dir = \"../data/\"\n",
    "dumps = [os.path.join(dumps_dir, file) for file in os.listdir(dumps_dir) if file.endswith(\".json.gz\")]\n",
    "print(dumps)"
   ]
  },
  {
   "cell_type": "code",
   "execution_count": 3,
   "metadata": {},
   "outputs": [],
   "source": [
    "def date_parser(value):\n",
    "    \"\"\"\n",
    "    Parse dates in dump\n",
    "    \"\"\"\n",
    "    \n",
    "    if isinstance(value, dict):\n",
    "        for k, v in value.items():\n",
    "            value[k] = date_parser(v)\n",
    "    elif isinstance(value, list):\n",
    "        for index, row in enumerate(value):\n",
    "            value[index] = date_parser(row)\n",
    "    elif isinstance(value, str) and value:\n",
    "        try:\n",
    "            value = datetime.strptime(value, \"%Y-%m-%dT%H:%M:%S.%f%z\")\n",
    "        except (ValueError, AttributeError):\n",
    "            pass\n",
    "    return value\n",
    "\n",
    "# get attacks\n",
    "attacks = [json.load(gzip.open(dump, \"rt\", encoding=\"utf-8\"), object_hook=date_parser)[\"attacks\"] for dump in dumps]\n",
    "attacks = list(itertools.chain.from_iterable(attacks))\n",
    "attacks = pd.DataFrame(attacks)"
   ]
  },
  {
   "cell_type": "code",
   "execution_count": null,
   "metadata": {},
   "outputs": [],
   "source": []
  },
  {
   "cell_type": "code",
   "execution_count": null,
   "metadata": {},
   "outputs": [],
   "source": []
  },
  {
   "cell_type": "markdown",
   "metadata": {},
   "source": [
    "## Data Analysis"
   ]
  },
  {
   "cell_type": "markdown",
   "metadata": {},
   "source": [
    "### Attacks"
   ]
  },
  {
   "cell_type": "code",
   "execution_count": 4,
   "metadata": {},
   "outputs": [
    {
     "name": "stdout",
     "output_type": "stream",
     "text": [
      "1420\n"
     ]
    }
   ],
   "source": [
    "# get number attacks\n",
    "print(len(attacks.index))"
   ]
  },
  {
   "cell_type": "code",
   "execution_count": 5,
   "metadata": {},
   "outputs": [
    {
     "name": "stdout",
     "output_type": "stream",
     "text": [
      "2020-07-17 21:51:42.222120+00:00\n",
      "2020-07-30 16:57:25.728460+00:00\n"
     ]
    }
   ],
   "source": [
    "# get time window of start times\n",
    "print(attacks.start_time.min())\n",
    "print(attacks.start_time.max())"
   ]
  },
  {
   "cell_type": "code",
   "execution_count": 6,
   "metadata": {},
   "outputs": [
    {
     "data": {
      "text/plain": [
       "<AxesSubplot:title={'center':'Number of started attacks per hour'}, xlabel='start_time'>"
      ]
     },
     "execution_count": 6,
     "metadata": {},
     "output_type": "execute_result"
    },
    {
     "data": {
      "image/png": "[encoded data removed]",
      "text/plain": [
       "<Figure size 720x360 with 1 Axes>"
      ]
     },
     "metadata": {
      "needs_background": "light"
     },
     "output_type": "display_data"
    }
   ],
   "source": [
    "# get number of started attacks over time\n",
    "start_times = pd.to_datetime(attacks.start_time)\n",
    "attacks.ip.groupby([start_times.dt.hour]).count().plot(kind=\"bar\", figsize=(10,5), title=\"Number of started attacks per hour\")"
   ]
  },
  {
   "cell_type": "code",
   "execution_count": 7,
   "metadata": {},
   "outputs": [
    {
     "name": "stdout",
     "output_type": "stream",
     "text": [
      "2020-07-30 08:01:41.135356+00:00\n",
      "2020-07-30 16:59:58.207574+00:00\n"
     ]
    }
   ],
   "source": [
    "# get time window of latest times\n",
    "print(attacks.latest_time.min())\n",
    "print(attacks.latest_time.max())"
   ]
  },
  {
   "cell_type": "code",
   "execution_count": 8,
   "metadata": {},
   "outputs": [
    {
     "data": {
      "text/plain": [
       "<AxesSubplot:title={'center':'Number of finished attacks per hour'}, xlabel='latest_time'>"
      ]
     },
     "execution_count": 8,
     "metadata": {},
     "output_type": "execute_result"
    },
    {
     "data": {
      "image/png": "[encoded data removed]",
      "text/plain": [
       "<Figure size 720x360 with 1 Axes>"
      ]
     },
     "metadata": {
      "needs_background": "light"
     },
     "output_type": "display_data"
    }
   ],
   "source": [
    "# get number of finished attacks over time\n",
    "latest_times = pd.to_datetime(attacks.latest_time)\n",
    "attacks.ip.groupby([latest_times.dt.hour]).count().plot(kind=\"bar\", figsize=(10,5), title=\"Number of finished attacks per hour\")"
   ]
  },
  {
   "cell_type": "code",
   "execution_count": 9,
   "metadata": {},
   "outputs": [
    {
     "data": {
      "text/plain": [
       "count                         1420\n",
       "mean     0 days 01:51:25.982792244\n",
       "std      0 days 19:06:41.216080131\n",
       "min         0 days 00:01:00.015651\n",
       "25%      0 days 00:01:48.003803250\n",
       "50%         0 days 00:04:08.586669\n",
       "75%      0 days 00:12:17.527106500\n",
       "max        12 days 10:50:44.388981\n",
       "dtype: object"
      ]
     },
     "execution_count": 9,
     "metadata": {},
     "output_type": "execute_result"
    }
   ],
   "source": [
    "# get duration of attacks\n",
    "durations = attacks.latest_time - attacks.start_time\n",
    "durations.describe()"
   ]
  },
  {
   "cell_type": "code",
   "execution_count": 10,
   "metadata": {},
   "outputs": [
    {
     "data": {
      "text/plain": [
       "<AxesSubplot:title={'center':'Duration of attacks in minutes'}, ylabel='Frequency'>"
      ]
     },
     "execution_count": 10,
     "metadata": {},
     "output_type": "execute_result"
    },
    {
     "data": {
      "image/png": "[encoded data removed]",
      "text/plain": [
       "<Figure size 720x360 with 1 Axes>"
      ]
     },
     "metadata": {
      "needs_background": "light"
     },
     "output_type": "display_data"
    }
   ],
   "source": [
    "# get duration of attacks\n",
    "durations = attacks.latest_time - attacks.start_time\n",
    "durations.astype(\"timedelta64[m]\").plot.hist(figsize=(10,5), title=\"Duration of attacks in minutes\")"
   ]
  },
  {
   "cell_type": "code",
   "execution_count": 11,
   "metadata": {},
   "outputs": [
    {
     "data": {
      "text/plain": [
       "count    1420.000000\n",
       "mean        2.366197\n",
       "std         3.901679\n",
       "min         1.000000\n",
       "25%         1.000000\n",
       "50%         1.000000\n",
       "75%         2.000000\n",
       "max        54.000000\n",
       "Name: attack_vectors, dtype: float64"
      ]
     },
     "execution_count": 11,
     "metadata": {},
     "output_type": "execute_result"
    }
   ],
   "source": [
    "# get number of attack vectors per attack\n",
    "attack_vectors = attacks.attack_vectors.apply(lambda attack_vectors: len(attack_vectors))\n",
    "attack_vectors.describe()"
   ]
  },
  {
   "cell_type": "code",
   "execution_count": 12,
   "metadata": {},
   "outputs": [
    {
     "data": {
      "text/plain": [
       "<AxesSubplot:title={'center':'Number of attack vectors per attack'}, ylabel='Frequency'>"
      ]
     },
     "execution_count": 12,
     "metadata": {},
     "output_type": "execute_result"
    },
    {
     "data": {
      "image/png": "[encoded data removed]",
      "text/plain": [
       "<Figure size 720x360 with 1 Axes>"
      ]
     },
     "metadata": {
      "needs_background": "light"
     },
     "output_type": "display_data"
    }
   ],
   "source": [
    "# get number of attack vectors per attack\n",
    "attack_vectors = attacks.attack_vectors.apply(lambda attack_vectors: len(attack_vectors))\n",
    "attack_vectors.plot.hist(figsize=(10,5), title=\"Number of attack vectors per attack\")"
   ]
  },
  {
   "cell_type": "code",
   "execution_count": 13,
   "metadata": {},
   "outputs": [
    {
     "data": {
      "text/plain": [
       "<AxesSubplot:title={'center':'Time difference between latest time of previous attack vector and start time of next attack vector within attacks in minutes'}, ylabel='Frequency'>"
      ]
     },
     "execution_count": 13,
     "metadata": {},
     "output_type": "execute_result"
    },
    {
     "data": {
      "image/png": "[encoded data removed]",
      "text/plain": [
       "<Figure size 720x360 with 1 Axes>"
      ]
     },
     "metadata": {
      "needs_background": "light"
     },
     "output_type": "display_data"
    }
   ],
   "source": [
    "# get time difference between target lines within attack which got merged\n",
    "differences_within = attacks.attack_vectors.apply(lambda attack_vectors: [next_vector[\"start_time\"] - previous_vector[\"latest_time\"] for previous_vector, next_vector in zip(attack_vectors, attack_vectors[1:])]).explode()\n",
    "differences_within.astype(\"timedelta64[m]\").plot.hist(figsize=(10,5), title=\"Time difference between latest time of previous attack vector and start time of next attack vector within attacks in minutes\")"
   ]
  },
  {
   "cell_type": "code",
   "execution_count": null,
   "metadata": {},
   "outputs": [],
   "source": []
  },
  {
   "cell_type": "code",
   "execution_count": null,
   "metadata": {},
   "outputs": [],
   "source": []
  },
  {
   "cell_type": "markdown",
   "metadata": {},
   "source": [
    "### Targets"
   ]
  },
  {
   "cell_type": "code",
   "execution_count": 14,
   "metadata": {},
   "outputs": [
    {
     "name": "stdout",
     "output_type": "stream",
     "text": [
      "968\n"
     ]
    }
   ],
   "source": [
    "# get number distinct targets\n",
    "print(len(attacks.ip.unique()))"
   ]
  },
  {
   "cell_type": "code",
   "execution_count": 15,
   "metadata": {},
   "outputs": [
    {
     "data": {
      "text/plain": [
       "<AxesSubplot:title={'center':'Number of attacks on same target'}, ylabel='Frequency'>"
      ]
     },
     "execution_count": 15,
     "metadata": {},
     "output_type": "execute_result"
    },
    {
     "data": {
      "image/png": "[encoded data removed]",
      "text/plain": [
       "<Figure size 720x360 with 1 Axes>"
      ]
     },
     "metadata": {
      "needs_background": "light"
     },
     "output_type": "display_data"
    }
   ],
   "source": [
    "# get number of attacks on same target\n",
    "attacks.ip.groupby([attacks.ip]).count().plot.hist(figsize=(10,5), title=\"Number of attacks on same target\")"
   ]
  },
  {
   "cell_type": "code",
   "execution_count": 16,
   "metadata": {},
   "outputs": [
    {
     "data": {
      "text/plain": [
       "count     452.000000\n",
       "mean      113.298673\n",
       "std       258.564864\n",
       "min     -5078.000000\n",
       "25%        77.750000\n",
       "50%       107.000000\n",
       "75%       120.000000\n",
       "max       480.000000\n",
       "dtype: float64"
      ]
     },
     "execution_count": 16,
     "metadata": {},
     "output_type": "execute_result"
    }
   ],
   "source": [
    "# get time difference between attacks which did not get merged\n",
    "attacks.sort_values(by=[\"start_time\"], ascending=True, inplace=True)\n",
    "differences_across = attacks.groupby(attacks.ip).apply(lambda group: [next_target[1][\"start_time\"] - previous_target[1][\"latest_time\"] for previous_target, next_target in zip(list(group.iterrows()), list(group.iterrows())[1:])]).explode()\n",
    "differences_across.astype(\"timedelta64[m]\").describe()"
   ]
  },
  {
   "cell_type": "code",
   "execution_count": 17,
   "metadata": {},
   "outputs": [
    {
     "data": {
      "text/plain": [
       "<AxesSubplot:title={'center':'Time difference between latest time of previous attack and start time of next attack across equal targets in minutes'}, ylabel='Frequency'>"
      ]
     },
     "execution_count": 17,
     "metadata": {},
     "output_type": "execute_result"
    },
    {
     "data": {
      "image/png": "[encoded data removed]",
      "text/plain": [
       "<Figure size 720x360 with 1 Axes>"
      ]
     },
     "metadata": {
      "needs_background": "light"
     },
     "output_type": "display_data"
    }
   ],
   "source": [
    "# get time difference between attacks which did not get merged\n",
    "differences_across.astype(\"timedelta64[m]\").plot.hist(figsize=(10,5), title=\"Time difference between latest time of previous attack and start time of next attack across equal targets in minutes\")"
   ]
  },
  {
   "cell_type": "code",
   "execution_count": null,
   "metadata": {},
   "outputs": [],
   "source": []
  },
  {
   "cell_type": "code",
   "execution_count": null,
   "metadata": {},
   "outputs": [],
   "source": []
  },
  {
   "cell_type": "markdown",
   "metadata": {},
   "source": [
    "### Hosts"
   ]
  },
  {
   "cell_type": "code",
   "execution_count": 18,
   "metadata": {},
   "outputs": [
    {
     "name": "stdout",
     "output_type": "stream",
     "text": [
      "2208\n"
     ]
    }
   ],
   "source": [
    "# get number of hosts\n",
    "hosts = attacks.hosts\n",
    "print(len(hosts.explode().index))"
   ]
  },
  {
   "cell_type": "code",
   "execution_count": 19,
   "metadata": {},
   "outputs": [
    {
     "name": "stdout",
     "output_type": "stream",
     "text": [
      "1495\n"
     ]
    }
   ],
   "source": [
    "# get number of distinct hosts\n",
    "print(len(hosts.explode().unique()))"
   ]
  },
  {
   "cell_type": "code",
   "execution_count": 20,
   "metadata": {},
   "outputs": [
    {
     "data": {
      "text/plain": [
       "<AxesSubplot:title={'center':'Number of hosts per attack'}, ylabel='Frequency'>"
      ]
     },
     "execution_count": 20,
     "metadata": {},
     "output_type": "execute_result"
    },
    {
     "data": {
      "image/png": "[encoded data removed]",
      "text/plain": [
       "<Figure size 720x360 with 1 Axes>"
      ]
     },
     "metadata": {
      "needs_background": "light"
     },
     "output_type": "display_data"
    }
   ],
   "source": [
    "# get number of hosts per attack\n",
    "hosts.apply(lambda hosts: len(hosts)).plot.hist(figsize=(10,5), title=\"Number of hosts per attack\")"
   ]
  },
  {
   "cell_type": "code",
   "execution_count": null,
   "metadata": {},
   "outputs": [],
   "source": []
  },
  {
   "cell_type": "code",
   "execution_count": null,
   "metadata": {},
   "outputs": [],
   "source": []
  },
  {
   "cell_type": "markdown",
   "metadata": {},
   "source": [
    "### Crawls"
   ]
  },
  {
   "cell_type": "code",
   "execution_count": 21,
   "metadata": {},
   "outputs": [
    {
     "name": "stdout",
     "output_type": "stream",
     "text": [
      "24413\n"
     ]
    }
   ],
   "source": [
    "# get number of crawls\n",
    "crawls = attacks.crawls\n",
    "print(len(crawls.explode().dropna()))"
   ]
  },
  {
   "cell_type": "code",
   "execution_count": 22,
   "metadata": {},
   "outputs": [
    {
     "name": "stdout",
     "output_type": "stream",
     "text": [
      "-1      19998\n",
      " 200     1978\n",
      " 404     1001\n",
      " 400      660\n",
      " 403      617\n",
      " 429       46\n",
      " 500       44\n",
      " 503       36\n",
      " 502       21\n",
      " 414       10\n",
      " 302        2\n",
      "Name: crawls, dtype: int64\n"
     ]
    }
   ],
   "source": [
    "# get number of crawls with status code\n",
    "print(crawls.explode().dropna().apply(lambda crawl: crawl[\"status\"]).value_counts())"
   ]
  },
  {
   "cell_type": "code",
   "execution_count": 23,
   "metadata": {},
   "outputs": [
    {
     "name": "stdout",
     "output_type": "stream",
     "text": [
      "24159\n"
     ]
    }
   ],
   "source": [
    "# get number of distinct crawls\n",
    "print(len(crawls.explode().dropna().apply(lambda crawl: crawl[\"record\"]).unique()))"
   ]
  },
  {
   "cell_type": "code",
   "execution_count": 24,
   "metadata": {},
   "outputs": [
    {
     "data": {
      "text/plain": [
       "count    1420.000000\n",
       "mean       17.192254\n",
       "std        18.502890\n",
       "min         2.000000\n",
       "25%         8.000000\n",
       "50%        12.000000\n",
       "75%        22.250000\n",
       "max       230.000000\n",
       "Name: crawls, dtype: float64"
      ]
     },
     "execution_count": 24,
     "metadata": {},
     "output_type": "execute_result"
    }
   ],
   "source": [
    "# get number of crawls per attack\n",
    "crawls.apply(lambda crawls: len(crawls)).describe()"
   ]
  },
  {
   "cell_type": "code",
   "execution_count": 25,
   "metadata": {},
   "outputs": [
    {
     "data": {
      "text/plain": [
       "<AxesSubplot:title={'center':'Number of crawls per attack'}, ylabel='Frequency'>"
      ]
     },
     "execution_count": 25,
     "metadata": {},
     "output_type": "execute_result"
    },
    {
     "data": {
      "image/png": "[encoded data removed]",
      "text/plain": [
       "<Figure size 720x360 with 1 Axes>"
      ]
     },
     "metadata": {
      "needs_background": "light"
     },
     "output_type": "display_data"
    }
   ],
   "source": [
    "# get number of crawls per attack\n",
    "crawls.apply(lambda crawls: len(crawls)).plot.hist(figsize=(10,5), title=\"Number of crawls per attack\")"
   ]
  }
 ],
 "metadata": {
  "kernelspec": {
   "display_name": "Python 3",
   "language": "python",
   "name": "python3"
  },
  "language_info": {
   "codemirror_mode": {
    "name": "ipython",
    "version": 3
   },
   "file_extension": ".py",
   "mimetype": "text/x-python",
   "name": "python",
   "nbconvert_exporter": "python",
   "pygments_lexer": "ipython3",
   "version": "3.7.5"
  }
 },
 "nbformat": 4,
 "nbformat_minor": 4
}
