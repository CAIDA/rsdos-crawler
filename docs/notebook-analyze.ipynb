{
 "cells": [
  {
   "cell_type": "markdown",
   "metadata": {},
   "source": [
    "# Real-Time Monitoring of DoS Attacks: Analyse Data of RSDoS Crawler"
   ]
  },
  {
   "cell_type": "markdown",
   "metadata": {},
   "source": [
    "This notebook runs a very first analysis as part of the real-time monitoring of DoS attacks. The aim of this analysis is to get some first insights into the data of the RSDoS crawler.\n",
    "\n",
    "*Stefan Scholz* \n",
    "*2020-07-22*"
   ]
  },
  {
   "cell_type": "code",
   "execution_count": 1,
   "metadata": {},
   "outputs": [],
   "source": [
    "import os\n",
    "import json\n",
    "import gzip\n",
    "import pprint\n",
    "import itertools\n",
    "import pandas as pd\n",
    "from datetime import datetime"
   ]
  },
  {
   "cell_type": "markdown",
   "metadata": {},
   "source": [
    "## Data Preparation"
   ]
  },
  {
   "cell_type": "code",
   "execution_count": 2,
   "metadata": {},
   "outputs": [],
   "source": [
    "# get dumps\n",
    "dumps_dir = \"../data/\"\n",
    "dumps = [os.path.join(dumps_dir, file) for file in os.listdir(dumps_dir) if file.endswith(\".json.gz\")]"
   ]
  },
  {
   "cell_type": "code",
   "execution_count": 3,
   "metadata": {},
   "outputs": [],
   "source": [
    "def date_parser(value):\n",
    "    \"\"\"\n",
    "    Parse dates in dump\n",
    "    \"\"\"\n",
    "    \n",
    "    if isinstance(value, dict):\n",
    "        for k, v in value.items():\n",
    "            value[k] = date_parser(v)\n",
    "    elif isinstance(value, list):\n",
    "        for index, row in enumerate(value):\n",
    "            value[index] = date_parser(row)\n",
    "    elif isinstance(value, str) and value:\n",
    "        try:\n",
    "            value = datetime.strptime(value, \"%Y-%m-%dT%H:%M:%S.%f%z\")\n",
    "        except (ValueError, AttributeError):\n",
    "            pass\n",
    "    return value\n",
    "\n",
    "# get attacks\n",
    "attacks = [json.load(gzip.open(dump, \"rt\", encoding=\"utf-8\"), object_hook=date_parser)[\"targets\"] for dump in dumps]\n",
    "attacks = list(itertools.chain.from_iterable(attacks))\n",
    "attacks = pd.DataFrame(attacks)"
   ]
  },
  {
   "cell_type": "code",
   "execution_count": null,
   "metadata": {},
   "outputs": [],
   "source": []
  },
  {
   "cell_type": "code",
   "execution_count": null,
   "metadata": {},
   "outputs": [],
   "source": []
  },
  {
   "cell_type": "markdown",
   "metadata": {},
   "source": [
    "## Data Analysis"
   ]
  },
  {
   "cell_type": "markdown",
   "metadata": {},
   "source": [
    "### Attacks"
   ]
  },
  {
   "cell_type": "code",
   "execution_count": 4,
   "metadata": {},
   "outputs": [
    {
     "name": "stdout",
     "output_type": "stream",
     "text": [
      "4491\n"
     ]
    }
   ],
   "source": [
    "# get number attacks\n",
    "print(len(attacks.index))"
   ]
  },
  {
   "cell_type": "code",
   "execution_count": 5,
   "metadata": {},
   "outputs": [
    {
     "name": "stdout",
     "output_type": "stream",
     "text": [
      "2020-07-21 11:00:00.000166+00:00\n",
      "2020-07-21 14:58:44.993917+00:00\n"
     ]
    }
   ],
   "source": [
    "# get time window of start times\n",
    "print(attacks.start_time.min())\n",
    "print(attacks.start_time.max())"
   ]
  },
  {
   "cell_type": "code",
   "execution_count": 6,
   "metadata": {},
   "outputs": [
    {
     "data": {
      "text/plain": [
       "<AxesSubplot:title={'center':'Number of attacks per hour'}, xlabel='start_time'>"
      ]
     },
     "execution_count": 6,
     "metadata": {},
     "output_type": "execute_result"
    },
    {
     "data": {
      "image/png": "[encoded data removed]",
      "text/plain": [
       "<Figure size 720x360 with 1 Axes>"
      ]
     },
     "metadata": {
      "needs_background": "light"
     },
     "output_type": "display_data"
    }
   ],
   "source": [
    "# get number of attacks over time\n",
    "start_times = pd.to_datetime(attacks.start_time)\n",
    "attacks.ip.groupby([start_times.dt.hour]).count().plot(kind=\"bar\", figsize=(10,5), title=\"Number of attacks per hour\")"
   ]
  },
  {
   "cell_type": "code",
   "execution_count": 7,
   "metadata": {},
   "outputs": [
    {
     "data": {
      "text/plain": [
       "<AxesSubplot:title={'center':'Duration of attacks in minutes'}, ylabel='Frequency'>"
      ]
     },
     "execution_count": 7,
     "metadata": {},
     "output_type": "execute_result"
    },
    {
     "data": {
      "image/png": "[encoded data removed]",
      "text/plain": [
       "<Figure size 720x360 with 1 Axes>"
      ]
     },
     "metadata": {
      "needs_background": "light"
     },
     "output_type": "display_data"
    }
   ],
   "source": [
    "# get duration of attacks\n",
    "durations = attacks.latest_time - attacks.start_time\n",
    "durations.astype(\"timedelta64[m]\").plot.hist(figsize=(10,5), title=\"Duration of attacks in minutes\")"
   ]
  },
  {
   "cell_type": "code",
   "execution_count": 8,
   "metadata": {},
   "outputs": [
    {
     "data": {
      "text/plain": [
       "<AxesSubplot:title={'center':'Duration of attacks in minutes'}, ylabel='Frequency'>"
      ]
     },
     "execution_count": 8,
     "metadata": {},
     "output_type": "execute_result"
    },
    {
     "data": {
      "image/png": "[encoded data removed]",
      "text/plain": [
       "<Figure size 720x360 with 1 Axes>"
      ]
     },
     "metadata": {
      "needs_background": "light"
     },
     "output_type": "display_data"
    }
   ],
   "source": [
    "# get number of target lines per attack\n",
    "target_lines = attacks.target_lines.apply(lambda target_lines: len(target_lines))\n",
    "target_lines.plot.hist(figsize=(10,5), title=\"Duration of attacks in minutes\")"
   ]
  },
  {
   "cell_type": "code",
   "execution_count": 9,
   "metadata": {},
   "outputs": [
    {
     "data": {
      "text/plain": [
       "<AxesSubplot:title={'center':'Time difference between latest time of previous target line and start time of next target line within targets in minutes'}, ylabel='Frequency'>"
      ]
     },
     "execution_count": 9,
     "metadata": {},
     "output_type": "execute_result"
    },
    {
     "data": {
      "image/png": "[encoded data removed]",
      "text/plain": [
       "<Figure size 720x360 with 1 Axes>"
      ]
     },
     "metadata": {
      "needs_background": "light"
     },
     "output_type": "display_data"
    }
   ],
   "source": [
    "# get time difference between target lines within attack which got merged\n",
    "differences_within = attacks.target_lines.apply(lambda target_lines: [next_line[\"start_time\"] - previous_line[\"latest_time\"] for previous_line, next_line in zip(target_lines, target_lines[1:])]).explode()\n",
    "differences_within.astype(\"timedelta64[m]\").plot.hist(figsize=(10,5), title=\"Time difference between latest time of previous target line and start time of next target line within targets in minutes\")"
   ]
  },
  {
   "cell_type": "code",
   "execution_count": null,
   "metadata": {},
   "outputs": [],
   "source": []
  },
  {
   "cell_type": "code",
   "execution_count": null,
   "metadata": {},
   "outputs": [],
   "source": []
  },
  {
   "cell_type": "markdown",
   "metadata": {},
   "source": [
    "### Targets"
   ]
  },
  {
   "cell_type": "code",
   "execution_count": 10,
   "metadata": {},
   "outputs": [
    {
     "name": "stdout",
     "output_type": "stream",
     "text": [
      "965\n"
     ]
    }
   ],
   "source": [
    "# get number distinct targets\n",
    "print(len(attacks.ip.unique()))"
   ]
  },
  {
   "cell_type": "code",
   "execution_count": 11,
   "metadata": {},
   "outputs": [
    {
     "data": {
      "text/plain": [
       "<AxesSubplot:title={'center':'Number of attacks on same target'}, ylabel='Frequency'>"
      ]
     },
     "execution_count": 11,
     "metadata": {},
     "output_type": "execute_result"
    },
    {
     "data": {
      "image/png": "[encoded data removed]",
      "text/plain": [
       "<Figure size 720x360 with 1 Axes>"
      ]
     },
     "metadata": {
      "needs_background": "light"
     },
     "output_type": "display_data"
    }
   ],
   "source": [
    "# get number of attacks on same target\n",
    "attacks.ip.groupby([attacks.ip]).count().plot.hist(figsize=(10,5), title=\"Number of attacks on same target\")"
   ]
  },
  {
   "cell_type": "code",
   "execution_count": 12,
   "metadata": {},
   "outputs": [
    {
     "data": {
      "text/plain": [
       "<AxesSubplot:title={'center':'Time difference between latest time of previous attack and start time of next attack across equal targets in minutes'}, ylabel='Frequency'>"
      ]
     },
     "execution_count": 12,
     "metadata": {},
     "output_type": "execute_result"
    },
    {
     "data": {
      "image/png": "[encoded data removed]",
      "text/plain": [
       "<Figure size 720x360 with 1 Axes>"
      ]
     },
     "metadata": {
      "needs_background": "light"
     },
     "output_type": "display_data"
    }
   ],
   "source": [
    "# get time difference between attacks which did not get merged\n",
    "attacks.sort_values(by=[\"start_time\"], ascending=True, inplace=True)\n",
    "differences_across = attacks.groupby(attacks.ip).apply(lambda group: [next_target[1][\"start_time\"] - previous_target[1][\"latest_time\"] for previous_target, next_target in zip(list(group.iterrows()), list(group.iterrows())[1:])]).explode()\n",
    "differences_across.astype(\"timedelta64[m]\").plot.hist(figsize=(10,5), title=\"Time difference between latest time of previous attack and start time of next attack across equal targets in minutes\")"
   ]
  },
  {
   "cell_type": "code",
   "execution_count": null,
   "metadata": {},
   "outputs": [],
   "source": []
  },
  {
   "cell_type": "code",
   "execution_count": null,
   "metadata": {},
   "outputs": [],
   "source": []
  },
  {
   "cell_type": "markdown",
   "metadata": {},
   "source": [
    "### Hosts"
   ]
  },
  {
   "cell_type": "code",
   "execution_count": 13,
   "metadata": {},
   "outputs": [
    {
     "name": "stdout",
     "output_type": "stream",
     "text": [
      "6464\n"
     ]
    }
   ],
   "source": [
    "# get number of hosts\n",
    "hosts = attacks.hosts.apply(lambda hosts: list(hosts.keys()))\n",
    "print(len(hosts.explode().index))"
   ]
  },
  {
   "cell_type": "code",
   "execution_count": 14,
   "metadata": {},
   "outputs": [
    {
     "name": "stdout",
     "output_type": "stream",
     "text": [
      "1386\n"
     ]
    }
   ],
   "source": [
    "# get number of distinct hosts\n",
    "print(len(hosts.explode().unique()))"
   ]
  },
  {
   "cell_type": "code",
   "execution_count": 15,
   "metadata": {},
   "outputs": [
    {
     "data": {
      "text/plain": [
       "<AxesSubplot:title={'center':'Number of hosts per attack'}, ylabel='Frequency'>"
      ]
     },
     "execution_count": 15,
     "metadata": {},
     "output_type": "execute_result"
    },
    {
     "data": {
      "image/png": "[encoded data removed]",
      "text/plain": [
       "<Figure size 720x360 with 1 Axes>"
      ]
     },
     "metadata": {
      "needs_background": "light"
     },
     "output_type": "display_data"
    }
   ],
   "source": [
    "# get number of hosts per attack\n",
    "hosts.apply(lambda hosts: len(hosts)).plot.hist(figsize=(10,5), title=\"Number of hosts per attack\")"
   ]
  },
  {
   "cell_type": "code",
   "execution_count": null,
   "metadata": {},
   "outputs": [],
   "source": []
  },
  {
   "cell_type": "code",
   "execution_count": null,
   "metadata": {},
   "outputs": [],
   "source": []
  },
  {
   "cell_type": "markdown",
   "metadata": {},
   "source": [
    "### Crawls"
   ]
  },
  {
   "cell_type": "code",
   "execution_count": 16,
   "metadata": {},
   "outputs": [
    {
     "name": "stdout",
     "output_type": "stream",
     "text": [
      "9364\n"
     ]
    }
   ],
   "source": [
    "# get number of crawls\n",
    "crawls = attacks.hosts.apply(lambda hosts: list(itertools.chain.from_iterable(hosts.values())))\n",
    "print(len(crawls.explode().dropna()))"
   ]
  },
  {
   "cell_type": "code",
   "execution_count": 17,
   "metadata": {},
   "outputs": [
    {
     "name": "stdout",
     "output_type": "stream",
     "text": [
      "9357\n"
     ]
    }
   ],
   "source": [
    "# get number of distinct crawls\n",
    "print(len(crawls.explode().dropna().apply(lambda crawl: crawl[\"record\"]).unique()))"
   ]
  },
  {
   "cell_type": "code",
   "execution_count": 18,
   "metadata": {},
   "outputs": [
    {
     "data": {
      "text/plain": [
       "<AxesSubplot:title={'center':'Number of crawls per attack'}, ylabel='Frequency'>"
      ]
     },
     "execution_count": 18,
     "metadata": {},
     "output_type": "execute_result"
    },
    {
     "data": {
      "image/png": "[encoded data removed]",
      "text/plain": [
       "<Figure size 720x360 with 1 Axes>"
      ]
     },
     "metadata": {
      "needs_background": "light"
     },
     "output_type": "display_data"
    }
   ],
   "source": [
    "# get number of crawls per attack\n",
    "crawls.apply(lambda crawls: len(crawls)).plot.hist(figsize=(10,5), title=\"Number of crawls per attack\")"
   ]
  },
  {
   "cell_type": "code",
   "execution_count": 19,
   "metadata": {},
   "outputs": [
    {
     "name": "stdout",
     "output_type": "stream",
     "text": [
      "-1      7599\n",
      " 200    1058\n",
      " 404     492\n",
      " 400      96\n",
      " 403      95\n",
      " 401      13\n",
      " 502       4\n",
      " 412       3\n",
      " 500       2\n",
      " 520       2\n",
      "Name: hosts, dtype: int64\n"
     ]
    }
   ],
   "source": [
    "# get number of crawls with status code\n",
    "print(crawls.explode().dropna().apply(lambda crawl: crawl[\"status\"]).value_counts())"
   ]
  },
  {
   "cell_type": "code",
   "execution_count": 20,
   "metadata": {},
   "outputs": [
    {
     "name": "stdout",
     "output_type": "stream",
     "text": [
      "6049\n"
     ]
    }
   ],
   "source": [
    "# get number of failed hosts which always return non 200 code\n",
    "hosts_failed = attacks.hosts.apply(lambda hosts: {host: crawls for host, crawls in hosts.items() if all([crawl[\"status\"]>200 or crawl[\"status\"]<0 for crawl in crawls])})\n",
    "print(len(hosts_failed.apply(lambda hosts: list(hosts.keys())).explode().dropna().index))"
   ]
  },
  {
   "cell_type": "code",
   "execution_count": 21,
   "metadata": {},
   "outputs": [
    {
     "name": "stdout",
     "output_type": "stream",
     "text": [
      "-1      7541\n",
      " 404     489\n",
      " 400      96\n",
      " 403      93\n",
      " 401      13\n",
      " 502       4\n",
      " 412       3\n",
      " 500       2\n",
      " 520       2\n",
      "Name: hosts, dtype: int64\n"
     ]
    }
   ],
   "source": [
    "# get number of crawls from failed hosts with status codes\n",
    "crawls_failed = hosts_failed.apply(lambda hosts: list(itertools.chain.from_iterable(hosts.values())))\n",
    "print(crawls_failed.explode().dropna().apply(lambda crawl: crawl[\"status\"]).value_counts())"
   ]
  },
  {
   "cell_type": "code",
   "execution_count": null,
   "metadata": {},
   "outputs": [],
   "source": []
  },
  {
   "cell_type": "code",
   "execution_count": null,
   "metadata": {},
   "outputs": [],
   "source": []
  }
 ],
 "metadata": {
  "kernelspec": {
   "display_name": "Python 3",
   "language": "python",
   "name": "python3"
  },
  "language_info": {
   "codemirror_mode": {
    "name": "ipython",
    "version": 3
   },
   "file_extension": ".py",
   "mimetype": "text/x-python",
   "name": "python",
   "nbconvert_exporter": "python",
   "pygments_lexer": "ipython3",
   "version": "3.8.0"
  }
 },
 "nbformat": 4,
 "nbformat_minor": 4
}
